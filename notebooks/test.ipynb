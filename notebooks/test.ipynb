{
 "cells": [
  {
   "cell_type": "code",
   "execution_count": 1,
   "outputs": [
    {
     "name": "stderr",
     "output_type": "stream",
     "text": [
      "2023-04-13 14:29:56.427268: I tensorflow/core/platform/cpu_feature_guard.cc:182] This TensorFlow binary is optimized to use available CPU instructions in performance-critical operations.\n",
      "To enable the following instructions: AVX2 FMA, in other operations, rebuild TensorFlow with the appropriate compiler flags.\n",
      "2023-04-13 14:29:57.000480: W tensorflow/compiler/tf2tensorrt/utils/py_utils.cc:38] TF-TRT Warning: Could not find TensorRT\n"
     ]
    }
   ],
   "source": [
    "import yaml\n",
    "from sklearn.model_selection import train_test_split\n",
    "\n",
    "from src.models.neural_net import NeuralNet\n",
    "from src.utils import load_dataset"
   ],
   "metadata": {
    "collapsed": false,
    "pycharm": {
     "name": "#%%\n"
    }
   }
  },
  {
   "cell_type": "code",
   "execution_count": 2,
   "outputs": [],
   "source": [
    "X, y = load_dataset()\n",
    "train_X, test_X, train_y, test_y = train_test_split(X, y, test_size=0.2)"
   ],
   "metadata": {
    "collapsed": false,
    "pycharm": {
     "name": "#%%\n"
    }
   }
  },
  {
   "cell_type": "code",
   "execution_count": 3,
   "outputs": [
    {
     "name": "stderr",
     "output_type": "stream",
     "text": [
      "2023-04-13 14:30:01.705593: I tensorflow/compiler/xla/stream_executor/cuda/cuda_gpu_executor.cc:996] successful NUMA node read from SysFS had negative value (-1), but there must be at least one NUMA node, so returning NUMA node zero. See more at https://github.com/torvalds/linux/blob/v6.0/Documentation/ABI/testing/sysfs-bus-pci#L344-L355\n",
      "2023-04-13 14:30:01.732440: W tensorflow/core/common_runtime/gpu/gpu_device.cc:1956] Cannot dlopen some GPU libraries. Please make sure the missing libraries mentioned above are installed properly if you would like to use GPU. Follow the guide at https://www.tensorflow.org/install/gpu for how to download and setup the required libraries for your platform.\n",
      "Skipping registering GPU devices...\n"
     ]
    }
   ],
   "source": [
    "with open(\"/home/maria/Documents/OpenX/configs/neural_net.yaml\") as f:\n",
    "    config = yaml.safe_load(f)\n",
    "model = NeuralNet(**config, max_epochs=15)"
   ],
   "metadata": {
    "collapsed": false,
    "pycharm": {
     "name": "#%%\n"
    }
   }
  },
  {
   "cell_type": "code",
   "execution_count": 4,
   "outputs": [],
   "source": [
    "model.load_from_checkpoint(\"/home/maria/Documents/OpenX/models/neural_net.ckpt\")"
   ],
   "metadata": {
    "collapsed": false,
    "pycharm": {
     "name": "#%%\n"
    }
   }
  },
  {
   "cell_type": "code",
   "execution_count": 5,
   "outputs": [
    {
     "name": "stdout",
     "output_type": "stream",
     "text": [
      "3632/3632 [==============================] - 2s 565us/step\n"
     ]
    },
    {
     "data": {
      "text/plain": "array([1, 1, 1, ..., 1, 6, 1])"
     },
     "execution_count": 5,
     "metadata": {},
     "output_type": "execute_result"
    }
   ],
   "source": [
    "model.predict(test_X)"
   ],
   "metadata": {
    "collapsed": false,
    "pycharm": {
     "name": "#%%\n"
    }
   }
  },
  {
   "cell_type": "code",
   "execution_count": null,
   "outputs": [],
   "source": [],
   "metadata": {
    "collapsed": false,
    "pycharm": {
     "name": "#%%\n"
    }
   }
  },
  {
   "cell_type": "code",
   "execution_count": 7,
   "outputs": [
    {
     "data": {
      "text/plain": "          0    1   2    3    4     5    6    7    8     9   ...  44  45  46   \n28041   2771  144   2  162   13  2672  222  238  152  6079  ...   0   0   0  \\\n174540  3057  135   5  170   11  3055  228  238  144   785  ...   0   0   0   \n372379  3084  197  11  335   61  2067  217  250  166  1676  ...   0   1   0   \n150338  3126    2  19  192   46  4385  190  200  144  2949  ...   0   0   0   \n404947  2567  151  10    0    0  1429  233  240  138  2579  ...   0   0   0   \n...      ...  ...  ..  ...  ...   ...  ...  ...  ...   ...  ...  ..  ..  ..   \n400191  2725  137  16  319  142  2039  243  233  114  2596  ...   0   0   0   \n44573   2883   70   5  190   28  3762  225  230  140  5574  ...   0   0   0   \n575595  2614  121   6  258   70  2698  230  235  139   792  ...   0   0   0   \n329807  3534   25  13  510  122  2852  213  210  132  1690  ...   0   0   0   \n353190  2960   64  15  285   32   466  233  207  103   858  ...   0   0   0   \n\n        47  48  49  50  51  52  53  \n28041    0   0   0   0   0   0   0  \n174540   0   0   0   0   0   0   0  \n372379   0   0   0   0   0   0   0  \n150338   0   0   0   0   0   0   0  \n404947   0   0   0   0   0   0   0  \n...     ..  ..  ..  ..  ..  ..  ..  \n400191   0   0   0   0   0   0   0  \n44573    0   0   0   0   0   0   0  \n575595   0   0   0   0   0   0   0  \n329807   0   0   0   0   0   0   1  \n353190   0   0   0   0   0   0   0  \n\n[20000 rows x 54 columns]",
      "text/html": "<div>\n<style scoped>\n    .dataframe tbody tr th:only-of-type {\n        vertical-align: middle;\n    }\n\n    .dataframe tbody tr th {\n        vertical-align: top;\n    }\n\n    .dataframe thead th {\n        text-align: right;\n    }\n</style>\n<table border=\"1\" class=\"dataframe\">\n  <thead>\n    <tr style=\"text-align: right;\">\n      <th></th>\n      <th>0</th>\n      <th>1</th>\n      <th>2</th>\n      <th>3</th>\n      <th>4</th>\n      <th>5</th>\n      <th>6</th>\n      <th>7</th>\n      <th>8</th>\n      <th>9</th>\n      <th>...</th>\n      <th>44</th>\n      <th>45</th>\n      <th>46</th>\n      <th>47</th>\n      <th>48</th>\n      <th>49</th>\n      <th>50</th>\n      <th>51</th>\n      <th>52</th>\n      <th>53</th>\n    </tr>\n  </thead>\n  <tbody>\n    <tr>\n      <th>28041</th>\n      <td>2771</td>\n      <td>144</td>\n      <td>2</td>\n      <td>162</td>\n      <td>13</td>\n      <td>2672</td>\n      <td>222</td>\n      <td>238</td>\n      <td>152</td>\n      <td>6079</td>\n      <td>...</td>\n      <td>0</td>\n      <td>0</td>\n      <td>0</td>\n      <td>0</td>\n      <td>0</td>\n      <td>0</td>\n      <td>0</td>\n      <td>0</td>\n      <td>0</td>\n      <td>0</td>\n    </tr>\n    <tr>\n      <th>174540</th>\n      <td>3057</td>\n      <td>135</td>\n      <td>5</td>\n      <td>170</td>\n      <td>11</td>\n      <td>3055</td>\n      <td>228</td>\n      <td>238</td>\n      <td>144</td>\n      <td>785</td>\n      <td>...</td>\n      <td>0</td>\n      <td>0</td>\n      <td>0</td>\n      <td>0</td>\n      <td>0</td>\n      <td>0</td>\n      <td>0</td>\n      <td>0</td>\n      <td>0</td>\n      <td>0</td>\n    </tr>\n    <tr>\n      <th>372379</th>\n      <td>3084</td>\n      <td>197</td>\n      <td>11</td>\n      <td>335</td>\n      <td>61</td>\n      <td>2067</td>\n      <td>217</td>\n      <td>250</td>\n      <td>166</td>\n      <td>1676</td>\n      <td>...</td>\n      <td>0</td>\n      <td>1</td>\n      <td>0</td>\n      <td>0</td>\n      <td>0</td>\n      <td>0</td>\n      <td>0</td>\n      <td>0</td>\n      <td>0</td>\n      <td>0</td>\n    </tr>\n    <tr>\n      <th>150338</th>\n      <td>3126</td>\n      <td>2</td>\n      <td>19</td>\n      <td>192</td>\n      <td>46</td>\n      <td>4385</td>\n      <td>190</td>\n      <td>200</td>\n      <td>144</td>\n      <td>2949</td>\n      <td>...</td>\n      <td>0</td>\n      <td>0</td>\n      <td>0</td>\n      <td>0</td>\n      <td>0</td>\n      <td>0</td>\n      <td>0</td>\n      <td>0</td>\n      <td>0</td>\n      <td>0</td>\n    </tr>\n    <tr>\n      <th>404947</th>\n      <td>2567</td>\n      <td>151</td>\n      <td>10</td>\n      <td>0</td>\n      <td>0</td>\n      <td>1429</td>\n      <td>233</td>\n      <td>240</td>\n      <td>138</td>\n      <td>2579</td>\n      <td>...</td>\n      <td>0</td>\n      <td>0</td>\n      <td>0</td>\n      <td>0</td>\n      <td>0</td>\n      <td>0</td>\n      <td>0</td>\n      <td>0</td>\n      <td>0</td>\n      <td>0</td>\n    </tr>\n    <tr>\n      <th>...</th>\n      <td>...</td>\n      <td>...</td>\n      <td>...</td>\n      <td>...</td>\n      <td>...</td>\n      <td>...</td>\n      <td>...</td>\n      <td>...</td>\n      <td>...</td>\n      <td>...</td>\n      <td>...</td>\n      <td>...</td>\n      <td>...</td>\n      <td>...</td>\n      <td>...</td>\n      <td>...</td>\n      <td>...</td>\n      <td>...</td>\n      <td>...</td>\n      <td>...</td>\n      <td>...</td>\n    </tr>\n    <tr>\n      <th>400191</th>\n      <td>2725</td>\n      <td>137</td>\n      <td>16</td>\n      <td>319</td>\n      <td>142</td>\n      <td>2039</td>\n      <td>243</td>\n      <td>233</td>\n      <td>114</td>\n      <td>2596</td>\n      <td>...</td>\n      <td>0</td>\n      <td>0</td>\n      <td>0</td>\n      <td>0</td>\n      <td>0</td>\n      <td>0</td>\n      <td>0</td>\n      <td>0</td>\n      <td>0</td>\n      <td>0</td>\n    </tr>\n    <tr>\n      <th>44573</th>\n      <td>2883</td>\n      <td>70</td>\n      <td>5</td>\n      <td>190</td>\n      <td>28</td>\n      <td>3762</td>\n      <td>225</td>\n      <td>230</td>\n      <td>140</td>\n      <td>5574</td>\n      <td>...</td>\n      <td>0</td>\n      <td>0</td>\n      <td>0</td>\n      <td>0</td>\n      <td>0</td>\n      <td>0</td>\n      <td>0</td>\n      <td>0</td>\n      <td>0</td>\n      <td>0</td>\n    </tr>\n    <tr>\n      <th>575595</th>\n      <td>2614</td>\n      <td>121</td>\n      <td>6</td>\n      <td>258</td>\n      <td>70</td>\n      <td>2698</td>\n      <td>230</td>\n      <td>235</td>\n      <td>139</td>\n      <td>792</td>\n      <td>...</td>\n      <td>0</td>\n      <td>0</td>\n      <td>0</td>\n      <td>0</td>\n      <td>0</td>\n      <td>0</td>\n      <td>0</td>\n      <td>0</td>\n      <td>0</td>\n      <td>0</td>\n    </tr>\n    <tr>\n      <th>329807</th>\n      <td>3534</td>\n      <td>25</td>\n      <td>13</td>\n      <td>510</td>\n      <td>122</td>\n      <td>2852</td>\n      <td>213</td>\n      <td>210</td>\n      <td>132</td>\n      <td>1690</td>\n      <td>...</td>\n      <td>0</td>\n      <td>0</td>\n      <td>0</td>\n      <td>0</td>\n      <td>0</td>\n      <td>0</td>\n      <td>0</td>\n      <td>0</td>\n      <td>0</td>\n      <td>1</td>\n    </tr>\n    <tr>\n      <th>353190</th>\n      <td>2960</td>\n      <td>64</td>\n      <td>15</td>\n      <td>285</td>\n      <td>32</td>\n      <td>466</td>\n      <td>233</td>\n      <td>207</td>\n      <td>103</td>\n      <td>858</td>\n      <td>...</td>\n      <td>0</td>\n      <td>0</td>\n      <td>0</td>\n      <td>0</td>\n      <td>0</td>\n      <td>0</td>\n      <td>0</td>\n      <td>0</td>\n      <td>0</td>\n      <td>0</td>\n    </tr>\n  </tbody>\n</table>\n<p>20000 rows × 54 columns</p>\n</div>"
     },
     "execution_count": 7,
     "metadata": {},
     "output_type": "execute_result"
    }
   ],
   "source": [
    "test_X[:20000]"
   ],
   "metadata": {
    "collapsed": false,
    "pycharm": {
     "name": "#%%\n"
    }
   }
  },
  {
   "cell_type": "code",
   "execution_count": 8,
   "outputs": [
    {
     "data": {
      "text/plain": "array([ 54096,  16758, 111720, ...,  62249, 108186, 108221])"
     },
     "execution_count": 8,
     "metadata": {},
     "output_type": "execute_result"
    }
   ],
   "source": [
    "import numpy as np\n",
    "\n",
    "np.random.randint(0, high=test_X.shape[0], size=20000, dtype=int)"
   ],
   "metadata": {
    "collapsed": false,
    "pycharm": {
     "name": "#%%\n"
    }
   }
  },
  {
   "cell_type": "code",
   "execution_count": null,
   "outputs": [],
   "source": [],
   "metadata": {
    "collapsed": false,
    "pycharm": {
     "name": "#%%\n"
    }
   }
  }
 ],
 "metadata": {
  "kernelspec": {
   "display_name": "Python 3",
   "language": "python",
   "name": "python3"
  },
  "language_info": {
   "codemirror_mode": {
    "name": "ipython",
    "version": 2
   },
   "file_extension": ".py",
   "mimetype": "text/x-python",
   "name": "python",
   "nbconvert_exporter": "python",
   "pygments_lexer": "ipython2",
   "version": "2.7.6"
  }
 },
 "nbformat": 4,
 "nbformat_minor": 0
}